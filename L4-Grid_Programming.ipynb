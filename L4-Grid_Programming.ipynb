{
 "cells": [
  {
   "cell_type": "code",
   "execution_count": 288,
   "id": "0989e0d2",
   "metadata": {},
   "outputs": [],
   "source": [
    "import numpy as np\n",
    "import random\n",
    "from enum import Enum, auto\n",
    "import matplotlib.pyplot as plt\n",
    "from typing import Tuple\n",
    "import sys"
   ]
  },
  {
   "cell_type": "code",
   "execution_count": 289,
   "id": "b6ecf1fa",
   "metadata": {},
   "outputs": [],
   "source": [
    "class Action(Enum) :\n",
    "    UP = 0\n",
    "    DOWN = auto()\n",
    "    LEFT = auto()\n",
    "    RIGHT = auto()       "
   ]
  },
  {
   "cell_type": "code",
   "execution_count": 290,
   "id": "dietary-carroll",
   "metadata": {},
   "outputs": [],
   "source": [
    "class Environment:\n",
    "    def __init__(self, size = 5):\n",
    "        self.size = size\n",
    "        self.goodState1 = [0,1]\n",
    "        self.goodState2 = [0,3]\n",
    "        self.goodStates = [self.goodState1,self.goodState2]\n",
    "        self.toState1 = [4,1]\n",
    "        self.toState2 = [2,3]\n",
    "        self.toStates = [self.toState1,self.toState2]\n",
    "        self.badState1 = [1,1]\n",
    "        self.badState2 = [4,4]\n",
    "        self.badStates = [self.badState1,self.badState2]\n",
    "        \n",
    "\n",
    "        \n",
    "    \n",
    "    # action \"right\",\"left\",\"up\",\"down\"\n",
    "    def step(self, state: list, action: Action) -> (list,str):\n",
    "        reward = 0\n",
    "        \n",
    "        # Calculate a new \"theoretical\" state\n",
    "        new_state = [sum(x) for x in zip(state,self.getDirectionVector(action))]\n",
    "        # Check if we are in a good state\n",
    "        if (state in self.goodStates):\n",
    "            if state == self.goodState1:\n",
    "                reward = 10\n",
    "                new_state = self.toState1\n",
    "            else:\n",
    "                reward = 5\n",
    "                new_state = self.toState2\n",
    "        # Check if new \"theoretical\" state is actually a valid state\n",
    "        elif any(coordinate not in range(0,self.size) for coordinate in new_state):\n",
    "            # new state is actually illegal\n",
    "            reward = -1\n",
    "            new_state = state    \n",
    "        # Check if we are in a bad state\n",
    "        elif (state in self.badStates):\n",
    "            reward = -1\n",
    "        return new_state,reward\n",
    "            \n",
    "        \n",
    "    # a mapping of directions to vectors     \n",
    "    def getDirectionVector(self,action: Action) -> list:\n",
    "        directionVector = [0,0]\n",
    "        if action == Action.LEFT:\n",
    "            directionVector = [0,-1]\n",
    "        elif action == Action.RIGHT:\n",
    "            directionVector = [0,1]\n",
    "        elif action == Action.DOWN:\n",
    "            directionVector = [1,0]\n",
    "        elif action == Action.UP:\n",
    "            directionVector = [-1,0]\n",
    "            \n",
    "        return directionVector   "
   ]
  },
  {
   "cell_type": "code",
   "execution_count": 291,
   "id": "cf61a0fe",
   "metadata": {},
   "outputs": [],
   "source": [
    "\n",
    "\n",
    "#def incementalMean(old_mean,new_value, k):\n",
    "#    return old_mean + (1/k)*(value-old_mean)\n",
    "\n",
    "class Policy:\n",
    "    def __init__(self):\n",
    "        self._possible_actions = [action for action in Action]\n",
    "        self._action_probs = np.full((5,5,len(Action)),1/len(Action))\n",
    "\n",
    "    def __call__(self, state: Tuple[int, int], action: Action) -> float:\n",
    "        \"\"\"\n",
    "        Returns the action probability\n",
    "        \"\"\"\n",
    "        assert action in self._possible_actions\n",
    "        return self._action_probs[state[0]][state[1]][action.value]\n",
    "    \n",
    "    def improve(self, V) -> bool:\n",
    "        \"\"\"\n",
    "        Improves Policy and returns True when stable\n",
    "        \"\"\"\n",
    "        env = Environment()\n",
    "        policy_stable = True\n",
    "        for y in range(env.size):\n",
    "            for x in range(env.size):\n",
    "                state = [y,x]\n",
    "                max_q = -sys.maxsize - 1 #min int\n",
    "                max_a = max(range(len(self._action_probs[y][x])), key=self._action_probs[y][x].__getitem__) #save current best action\n",
    "                for action in Action:\n",
    "                    next_state, reward = env.step(state,action)\n",
    "                    y_next,x_next = next_state\n",
    "                    q = reward + gamma*V[y_next][x_next]\n",
    "                    if q > max_q:\n",
    "                        max_q = q\n",
    "                        self._action_probs[y,x,] = 0\n",
    "                        self._action_probs[y][x][action.value] = 1         \n",
    "                # Check if policy is stable e.g. if any action has changes       \n",
    "                new_max_a = max(range(len(self._action_probs[y][x])), key=self._action_probs[y][x].__getitem__)\n",
    "                if max_a != new_max_a:\n",
    "                    policy_stable = False\n",
    "        return policy_stable\n"
   ]
  },
  {
   "cell_type": "code",
   "execution_count": 292,
   "id": "steady-filling",
   "metadata": {},
   "outputs": [],
   "source": [
    "def vis_policy(V):\n",
    "    actionMatrix = np.chararray((env.size,env.size),unicode=True)\n",
    "    arrows = ['↑','↓','←','→']\n",
    "    for y in range(env.size):\n",
    "        for x in range(env.size):\n",
    "            state = [y,x]\n",
    "            max_action_prob = 0\n",
    "            max_action = None\n",
    "            for action in Action:\n",
    "                action_prob = pi(state,action)\n",
    "                if action_prob > max_action_prob:\n",
    "                    max_action_prob = action_prob\n",
    "                    max_action = action\n",
    "            actionMatrix[y][x] = arrows[max_action.value]\n",
    "    \n",
    "    fig, ax = plt.subplots()\n",
    "    ax.matshow(V, cmap=plt.cm.Reds)\n",
    "    for i in range(V.shape[0]):\n",
    "        for j in range(V.shape[1]):\n",
    "            c = actionMatrix[j, i]\n",
    "            ax.text(i,j,c)\n",
    "                \n",
    "\n",
    "def vis_matrix(M, cmap=plt.cm.Reds):\n",
    "    fig, ax = plt.subplots()\n",
    "    ax.matshow(M, cmap=cmap)\n",
    "    for i in range(M.shape[0]):\n",
    "        for j in range(M.shape[1]):\n",
    "            c = M[j, i]\n",
    "            ax.text(i,j, \"%.2f\" % c, ha='center', va='center')\n",
    "    "
   ]
  },
  {
   "cell_type": "markdown",
   "id": "electrical-external",
   "metadata": {},
   "source": [
    "# Policy Iteration"
   ]
  },
  {
   "cell_type": "code",
   "execution_count": 293,
   "id": "designing-pilot",
   "metadata": {},
   "outputs": [
    {
     "name": "stdout",
     "output_type": "stream",
     "text": [
      "Needed iterations for policy evaluation:  8\n",
      "Needed iterations for policy evaluation:  9\n",
      "Needed iterations for policy evaluation:  10\n",
      "Needed iterations for policy evaluation:  11\n",
      "Needed iterations for policy evaluation:  12\n",
      "Needed policy improvements in total:  5\n"
     ]
    }
   ],
   "source": [
    "#BartoSutton page 102\n",
    "\n",
    "env = Environment()\n",
    "pi = Policy() \n",
    "V = np.zeros((env.size,env.size))\n",
    "\n",
    "error = 0\n",
    "treshhold = 0.1\n",
    "eval_iterations = 0\n",
    "policy_iterations = 0\n",
    "stable = False\n",
    "while not stable:\n",
    "    policy_iterations += 1\n",
    "    accurate_enough = False\n",
    "    while not accurate_enough: \n",
    "        eval_iterations += 1\n",
    "        error = 0\n",
    "        for y in range(env.size):\n",
    "            for x in range(env.size):\n",
    "                state = [y,x]\n",
    "                v = V[y][x]\n",
    "                v_temp = 0\n",
    "                for action in Action:\n",
    "                    next_state, reward = env.step(state,action)\n",
    "                    y_next,x_next = next_state\n",
    "                    v_temp += pi(state,action)*(reward + gamma*V[y_next][x_next])\n",
    "                V[y][x] = v_temp\n",
    "                error = max(error, v - v_temp)\n",
    "        if error < treshhold:\n",
    "            print(\"Needed iterations for policy evaluation: \", eval_iterations)\n",
    "            accurate_enough = True\n",
    "    stable = pi.improve(V)\n",
    "print(\"Needed policy improvements in total: \", policy_iterations)"
   ]
  },
  {
   "cell_type": "code",
   "execution_count": 294,
   "id": "beginning-virus",
   "metadata": {},
   "outputs": [
    {
     "data": {
      "image/png": "[encoded data removed]",
      "text/plain": [
       "<Figure size 432x288 with 1 Axes>"
      ]
     },
     "metadata": {
      "needs_background": "light"
     },
     "output_type": "display_data"
    }
   ],
   "source": [
    "vis_policy(V)"
   ]
  },
  {
   "cell_type": "code",
   "execution_count": 295,
   "id": "promotional-kingston",
   "metadata": {},
   "outputs": [
    {
     "data": {
      "image/png": "[encoded data removed]",
      "text/plain": [
       "<Figure size 432x288 with 1 Axes>"
      ]
     },
     "metadata": {
      "needs_background": "light"
     },
     "output_type": "display_data"
    }
   ],
   "source": [
    "vis_matrix(V)"
   ]
  },
  {
   "cell_type": "markdown",
   "id": "comprehensive-volunteer",
   "metadata": {},
   "source": [
    "## Old Code for exhaustive search - what is it called i have done here?"
   ]
  },
  {
   "cell_type": "code",
   "execution_count": 296,
   "id": "318f7c3a",
   "metadata": {},
   "outputs": [
    {
     "data": {
      "image/png": "[encoded data removed]",
      "text/plain": [
       "<Figure size 432x288 with 1 Axes>"
      ]
     },
     "metadata": {
      "needs_background": "light"
     },
     "output_type": "display_data"
    }
   ],
   "source": [
    "env = Environment()\n",
    "pi = Policy()\n",
    "numberOfStates = env.size * env.size\n",
    "numberOfActions = len(Action)\n",
    "R = np.zeros((numberOfStates,numberOfStates))\n",
    "P = np.zeros((numberOfStates,numberOfStates))\n",
    "\n",
    "\n",
    "for y in range(env.size):\n",
    "    for x in range(env.size):\n",
    "        state = [y,x]\n",
    "        for action in Action:\n",
    "            next_state, reward = env.step(state,action)\n",
    "            y_next,x_next = next_state\n",
    "            R[y*env.size + x][y_next*env.size + x_next] = reward\n",
    "            P[y*env.size + x][y_next*env.size + x_next] += pi(state,action)\n",
    "\n",
    "R_e = np.sum(P*R, axis=1, keepdims=True)\n",
    "\n",
    "\n",
    "# solves equation Ax = B\n",
    "# (I - yP)V = R_e\n",
    "gamma = 0.9\n",
    "A=np.eye(25) - gamma*P\n",
    "B=R_e\n",
    "V=np.linalg.solve(A,B)\n",
    "V = np.reshape(V,(env.size,env.size))\n",
    "\n",
    "vis_matrix(V)"
   ]
  },
  {
   "cell_type": "code",
   "execution_count": null,
   "id": "9767f2ab",
   "metadata": {},
   "outputs": [],
   "source": []
  },
  {
   "cell_type": "code",
   "execution_count": null,
   "id": "15f3ce00",
   "metadata": {},
   "outputs": [],
   "source": [
    "\n"
   ]
  },
  {
   "cell_type": "code",
   "execution_count": null,
   "id": "formed-egypt",
   "metadata": {},
   "outputs": [],
   "source": []
  }
 ],
 "metadata": {
  "kernelspec": {
   "display_name": "Python 3",
   "language": "python",
   "name": "python3"
  },
  "language_info": {
   "codemirror_mode": {
    "name": "ipython",
    "version": 3
   },
   "file_extension": ".py",
   "mimetype": "text/x-python",
   "name": "python",
   "nbconvert_exporter": "python",
   "pygments_lexer": "ipython3",
   "version": "3.8.6"
  }
 },
 "nbformat": 4,
 "nbformat_minor": 5
}
