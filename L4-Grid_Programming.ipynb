{
 "cells": [
  {
   "cell_type": "code",
   "execution_count": 2,
   "id": "0989e0d2",
   "metadata": {},
   "outputs": [],
   "source": [
    "import numpy as np\n",
    "import random\n",
    "\n",
    "import matplotlib.pyplot as plt\n",
    "\n"
   ]
  },
  {
   "cell_type": "code",
   "execution_count": 133,
   "id": "b6ecf1fa",
   "metadata": {},
   "outputs": [],
   "source": [
    "class Environment:\n",
    "    def __init__(self, size = 5):\n",
    "        self.size = size\n",
    "        self.goodState1 = [0,1]\n",
    "        self.goodState2 = [0,3]\n",
    "        self.goodStates = [self.goodState1,self.goodState2]\n",
    "        self.toState1 = [4,1]\n",
    "        self.toState2 = [2,3]\n",
    "        self.toStates = [self.toState1,self.toState2]\n",
    "        self.badState1 = [1,1]\n",
    "        self.badState2 = [4,4]\n",
    "        self.badStates = [self.badState1,self.badState2]\n",
    "        \n",
    "\n",
    "        \n",
    "    # state (x,y)\n",
    "    # action \"right\",\"left\",\"up\",\"down\"\n",
    "    def step(self, state: list, action: str) -> (list,str):\n",
    "        reward = 0\n",
    "        \n",
    "        # Calculate a new \"theoretical\" state\n",
    "        new_state = [sum(x) for x in zip(state,self.getDirectionVector(action))]\n",
    "\n",
    "        # Check if new \"theoretical\" state is actually a valid state\n",
    "        if any(coordinate not in range(0,self.size) for coordinate in new_state):\n",
    "            # new state is actually illegal\n",
    "            reward = -1\n",
    "            new_state = state\n",
    "            \n",
    "        # Check if we are in a good state\n",
    "        elif (state in self.goodStates):\n",
    "            if state == self.goodState1:\n",
    "                reward = 10\n",
    "                new_state = self.toState1\n",
    "            else:\n",
    "                reward = 5\n",
    "                new_state = self.toState2\n",
    "                \n",
    "        # Check if we are in a bad state\n",
    "        elif (state in self.badStates):\n",
    "            reward = -1\n",
    "        \n",
    "        return new_state,reward\n",
    "            \n",
    "        \n",
    "    # a mapping of directions to vectors     \n",
    "    def getDirectionVector(self,direction: str) -> list:\n",
    "        directionVector = [0,0]\n",
    "        if direction == \"left\":\n",
    "            directionVector = [0,-1]\n",
    "        elif direction == \"right\":\n",
    "            directionVector = [0,1]\n",
    "        elif direction == \"down\":\n",
    "            directionVector = [1,0]\n",
    "        elif direction == \"up\":\n",
    "            directionVektor = [-1,0]\n",
    "        return directionVector       \n",
    "\n",
    "        \n"
   ]
  },
  {
   "cell_type": "code",
   "execution_count": 134,
   "id": "cf61a0fe",
   "metadata": {},
   "outputs": [],
   "source": [
    "def policy(state: list, action: str) -> float:\n",
    "    return 0.25\n",
    "\n"
   ]
  },
  {
   "cell_type": "code",
   "execution_count": 135,
   "id": "0578e5fe",
   "metadata": {},
   "outputs": [
    {
     "name": "stdout",
     "output_type": "stream",
     "text": [
      "([4, 3], -1)\n"
     ]
    }
   ],
   "source": [
    "env = Environment()\n",
    "print(env.step([4,4],\"left\"))\n",
    "actions = [\"left\",\"right\",\"up\",\"down\"]\n",
    "numberOfStates = env.size * env.size\n",
    "numberOfActions = len(actions)\n",
    "R = np.zeros((numberOfStates,numberOfStates))\n",
    "P = np.zeros((numberOfStates,numberOfStates))\n",
    "\n",
    "for y in range(env.size):\n",
    "    for x in range(env.size):\n",
    "        state = [y,x]\n",
    "        for action in actions:\n",
    "            next_state, immediate_reward = env.step(state,action)\n",
    "            y_next,x_next = next_state\n",
    "            R[y*env.size + x][x_next*env.size + y_next] = immediate_reward\n",
    "            P[y*env.size + x][x_next*env.size + y_next] += policy(state,action)\n",
    "            \n",
    "R_e = np.sum(P*R, axis=1, keepdims=True)\n",
    "\n",
    "#print(P)\n",
    "# solves equation Ax = B\n",
    "# (I - yP)V = R_e\n",
    "gamma = 0.9\n",
    "A=np.eye(25) - gamma*P\n",
    "B=R_e\n",
    "V=np.linalg.solve(A,B)\n",
    "V = np.reshape(V,(env.size,env.size))\n"
   ]
  },
  {
   "cell_type": "code",
   "execution_count": 136,
   "id": "d99c3d9c",
   "metadata": {},
   "outputs": [
    {
     "data": {
      "image/png": "[encoded data removed]",
      "text/plain": [
       "<Figure size 432x288 with 1 Axes>"
      ]
     },
     "metadata": {
      "needs_background": "light"
     },
     "output_type": "display_data"
    }
   ],
   "source": [
    "def vis_matrix(M, cmap=plt.cm.Reds):\n",
    "    fig, ax = plt.subplots()\n",
    "    ax.matshow(M, cmap=cmap)\n",
    "    for i in range(M.shape[0]):\n",
    "        for j in range(M.shape[1]):\n",
    "            c = M[j, i]\n",
    "            ax.text(i,j, \"%.2f\" % c, ha='center', va='center')\n",
    "    \n",
    "vis_matrix(V)"
   ]
  },
  {
   "cell_type": "code",
   "execution_count": 139,
   "id": "318f7c3a",
   "metadata": {},
   "outputs": [
    {
     "name": "stdout",
     "output_type": "stream",
     "text": [
      "True\n"
     ]
    }
   ],
   "source": [
    "a = 1\n",
    "print(a in range(0,2))"
   ]
  },
  {
   "cell_type": "code",
   "execution_count": null,
   "id": "9767f2ab",
   "metadata": {},
   "outputs": [],
   "source": []
  }
 ],
 "metadata": {
  "kernelspec": {
   "display_name": "Python 3 (ipykernel)",
   "language": "python",
   "name": "python3"
  },
  "language_info": {
   "codemirror_mode": {
    "name": "ipython",
    "version": 3
   },
   "file_extension": ".py",
   "mimetype": "text/x-python",
   "name": "python",
   "nbconvert_exporter": "python",
   "pygments_lexer": "ipython3",
   "version": "3.9.12"
  }
 },
 "nbformat": 4,
 "nbformat_minor": 5
}
