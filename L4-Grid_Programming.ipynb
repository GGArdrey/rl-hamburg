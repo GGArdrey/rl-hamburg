{
 "cells": [
  {
   "cell_type": "code",
   "execution_count": 16,
   "id": "0989e0d2",
   "metadata": {},
   "outputs": [],
   "source": [
    "import numpy as np\n",
    "import random\n",
    "from enum import Enum, auto\n",
    "import matplotlib.pyplot as plt\n",
    "from typing import Tuple\n"
   ]
  },
  {
   "cell_type": "code",
   "execution_count": 17,
   "id": "b6ecf1fa",
   "metadata": {},
   "outputs": [],
   "source": [
    "class Environment:\n",
    "    def __init__(self, size = 5):\n",
    "        self.size = size\n",
    "        self.goodState1 = [0,1]\n",
    "        self.goodState2 = [0,3]\n",
    "        self.goodStates = [self.goodState1,self.goodState2]\n",
    "        self.toState1 = [4,1]\n",
    "        self.toState2 = [2,3]\n",
    "        self.toStates = [self.toState1,self.toState2]\n",
    "        self.badState1 = [1,1]\n",
    "        self.badState2 = [4,4]\n",
    "        self.badStates = [self.badState1,self.badState2]\n",
    "        \n",
    "\n",
    "        \n",
    "    \n",
    "    # action \"right\",\"left\",\"up\",\"down\"\n",
    "    def step(self, state: list, action: str) -> (list,str):\n",
    "        reward = 0\n",
    "        \n",
    "        # Calculate a new \"theoretical\" state\n",
    "        new_state = [sum(x) for x in zip(state,self.getDirectionVector(action))]\n",
    "        # Check if we are in a good state\n",
    "        if (state in self.goodStates):\n",
    "            if state == self.goodState1:\n",
    "                reward = 10\n",
    "                new_state = self.toState1\n",
    "            else:\n",
    "                reward = 5\n",
    "                new_state = self.toState2\n",
    "        # Check if new \"theoretical\" state is actually a valid state\n",
    "        elif any(coordinate not in range(0,self.size) for coordinate in new_state):\n",
    "            # new state is actually illegal\n",
    "            reward = -1\n",
    "            new_state = state    \n",
    "        # Check if we are in a bad state\n",
    "        elif (state in self.badStates):\n",
    "            reward = -1\n",
    "        return new_state,reward\n",
    "            \n",
    "        \n",
    "    # a mapping of directions to vectors     \n",
    "    def getDirectionVector(self,direction) -> list:\n",
    "        directionVector = [0,0]\n",
    "        if direction == \"left\":\n",
    "            directionVector = [0,-1]\n",
    "        elif direction == \"right\":\n",
    "            directionVector = [0,1]\n",
    "        elif direction == \"down\":\n",
    "            directionVector = [1,0]\n",
    "        elif direction == \"up\":\n",
    "            directionVector = [-1,0]\n",
    "            \n",
    "        return directionVector       \n",
    "\n",
    "        \n"
   ]
  },
  {
   "cell_type": "code",
   "execution_count": 18,
   "id": "cf61a0fe",
   "metadata": {},
   "outputs": [],
   "source": [
    "# old policy\n",
    "def policy(state: list, action: str) -> float:\n",
    "    return 0.25\n",
    "\n",
    "# Define the actions\n",
    "class Action(Enum) :\n",
    "    UP = auto()\n",
    "    DOWN = auto()\n",
    "    LEFT = auto()\n",
    "    RIGHT = auto()\n",
    "\n",
    "# Agent Policy, random\n",
    "class Policy:\n",
    "    def __init__(self):\n",
    "        # matrix with state x action\n",
    "        self._possible_actions = [action for action in Action]\n",
    "        self._action_probs = {\n",
    "            a: 1 / len(self._possible_actions) for a in self._possible_actions}\n",
    "\n",
    "    def __call__(self, state: Tuple[int, int], action: Action) -> float:\n",
    "        \"\"\"\n",
    "        Returns the action probability\n",
    "        \"\"\"\n",
    "        assert action in self._possible_actions\n",
    "        # state is unused for this policv\n",
    "        return self._action_probs[action]\n",
    "    \n"
   ]
  },
  {
   "cell_type": "code",
   "execution_count": 4,
   "id": "0578e5fe",
   "metadata": {},
   "outputs": [],
   "source": [
    "env = Environment()\n",
    "actions = [\"left\",\"right\",\"up\",\"down\"]\n",
    "numberOfStates = env.size * env.size\n",
    "numberOfActions = len(actions)\n",
    "R = np.zeros((numberOfStates,numberOfStates))\n",
    "P = np.zeros((numberOfStates,numberOfStates))\n",
    "\n",
    "for y in range(env.size):\n",
    "    for x in range(env.size):\n",
    "        state = [y,x]\n",
    "        for action in actions:\n",
    "            next_state, immediate_reward = env.step(state,action)\n",
    "            y_next,x_next = next_state\n",
    "            R[y*env.size + x][y_next*env.size + x_next] = immediate_reward\n",
    "            P[y*env.size + x][y_next*env.size + x_next] += policy(state,action)\n",
    "            \n",
    "R_e = np.sum(P*R, axis=1, keepdims=True)\n",
    "\n",
    "\n",
    "# solves equation Ax = B\n",
    "# (I - yP)V = R_e\n",
    "gamma = 0.9\n",
    "A=np.eye(25) - gamma*P\n",
    "B=R_e\n",
    "V=np.linalg.solve(A,B)\n",
    "V = np.reshape(V,(env.size,env.size))\n"
   ]
  },
  {
   "cell_type": "code",
   "execution_count": 5,
   "id": "d99c3d9c",
   "metadata": {},
   "outputs": [
    {
     "data": {
      "image/png": "[encoded data removed]",
      "text/plain": [
       "<Figure size 432x288 with 1 Axes>"
      ]
     },
     "metadata": {
      "needs_background": "light"
     },
     "output_type": "display_data"
    }
   ],
   "source": [
    "def vis_matrix(M, cmap=plt.cm.Reds):\n",
    "    fig, ax = plt.subplots()\n",
    "    ax.matshow(M, cmap=cmap)\n",
    "    for i in range(M.shape[0]):\n",
    "        for j in range(M.shape[1]):\n",
    "            c = M[j, i]\n",
    "            ax.text(i,j, \"%.2f\" % c, ha='center', va='center')\n",
    "    \n",
    "vis_matrix(V)"
   ]
  },
  {
   "cell_type": "code",
   "execution_count": 6,
   "id": "318f7c3a",
   "metadata": {},
   "outputs": [
    {
     "data": {
      "image/png": "[encoded data removed]",
      "text/plain": [
       "<Figure size 432x288 with 1 Axes>"
      ]
     },
     "metadata": {
      "needs_background": "light"
     },
     "output_type": "display_data"
    }
   ],
   "source": [
    "# solves equation Ax = B\n",
    "# (I - yP)V = R_e\n",
    "gamma = 0.0\n",
    "A=np.eye(25) - gamma*P\n",
    "B=R_e\n",
    "V=np.linalg.solve(A,B)\n",
    "V = np.reshape(V,(env.size,env.size))\n",
    "vis_matrix(V)"
   ]
  },
  {
   "cell_type": "code",
   "execution_count": null,
   "id": "9767f2ab",
   "metadata": {},
   "outputs": [],
   "source": [
    "### Do policy evaluation + policy improvement"
   ]
  },
  {
   "cell_type": "code",
   "execution_count": null,
   "id": "15f3ce00",
   "metadata": {},
   "outputs": [],
   "source": []
  }
 ],
 "metadata": {
  "kernelspec": {
   "display_name": "Python 3 (ipykernel)",
   "language": "python",
   "name": "python3"
  },
  "language_info": {
   "codemirror_mode": {
    "name": "ipython",
    "version": 3
   },
   "file_extension": ".py",
   "mimetype": "text/x-python",
   "name": "python",
   "nbconvert_exporter": "python",
   "pygments_lexer": "ipython3",
   "version": "3.9.12"
  }
 },
 "nbformat": 4,
 "nbformat_minor": 5
}
